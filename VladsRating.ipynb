{
 "cells": [
  {
   "cell_type": "code",
   "execution_count": 25,
   "metadata": {},
   "outputs": [],
   "source": [
    "import numpy as np"
   ]
  },
  {
   "cell_type": "code",
   "execution_count": 26,
   "metadata": {},
   "outputs": [],
   "source": [
    "eps = 1e-5\n",
    "\n",
    "def prediction(mu, students, problems):\n",
    "    return 1 / (1 + np.array([np.exp(-mu - problems - students[i]) for i in range(students.shape[0])]))\n",
    "\n",
    "def logloss(table, mu, students, problems, regmu, regst, regprob):\n",
    "    pred = prediction(mu, students, problems)\n",
    "    pred = np.minimum(np.maximum(eps, pred), 1 - eps)\n",
    "    \n",
    "    logloss = np.sum(table * np.log(pred) + (1 - table) * np.log(1 - pred))\n",
    "    logloss -= regmu * mu * mu\n",
    "    logloss -= regst * students @ students\n",
    "    logloss -= regprob * problems @ problems\n",
    "    \n",
    "    dmu = np.sum(table - pred) - 2 * regmu * mu\n",
    "    dstudents = np.sum(table - pred, 1) - 2 * regst * students\n",
    "    dproblems = np.sum(table - pred, 0) - 2 * regprob * problems\n",
    "    \n",
    "    assert(dstudents.shape == students.shape)\n",
    "    assert(dproblems.shape == problems.shape)\n",
    "    \n",
    "    return logloss, dmu, dstudents, dproblems\n",
    "\n",
    "def LogisticRegression(table, iters=50000, learning_rate=0.0001, regmu=1, regst=1, regprob=10):\n",
    "    n, m = table.shape\n",
    "    mu = np.random.sample()\n",
    "    students = np.random.sample(n)\n",
    "    problems = np.random.sample(m)\n",
    "    \n",
    "    for i in range(iters):\n",
    "        loss, dmu, dstudents, dproblems = logloss(table, mu, students, problems, regmu, regst, regprob)\n",
    "        \n",
    "        mu += learning_rate * dmu\n",
    "        students += learning_rate * dstudents\n",
    "        problems += learning_rate * problems\n",
    "        \n",
    "#         if (i + 1) % max(iters // 20, 1) == 0:\n",
    "#             print(f'after iteration {i + 1} logloss is {loss}')\n",
    "        \n",
    "    return mu, students, problems"
   ]
  },
  {
   "cell_type": "code",
   "execution_count": 27,
   "metadata": {},
   "outputs": [],
   "source": [
    "import os\n",
    "\n",
    "def ParseTable():\n",
    "    studentsCount = None\n",
    "    data = []\n",
    "    problemsCount = 0\n",
    "    for dirname, _, filenames in os.walk('tasks'):\n",
    "        for filename in filenames:\n",
    "            data.append(open(os.path.join(dirname, filename)).read().split('\\n'))\n",
    "            if studentsCount is None:\n",
    "                studentsCount = len(data[-1])\n",
    "            for i, row in enumerate(data[-1]):\n",
    "                data[-1][i] = list(map(int, row.split()))\n",
    "            problemsCount += sum(data[-1][0])\n",
    "            assert(studentsCount == len(data[-1]))  \n",
    "            \n",
    "    table = np.zeros((studentsCount, problemsCount))\n",
    "    curProblem = 0\n",
    "    for seria in data:\n",
    "        for i in range(len(seria[0])):\n",
    "            if seria[0][i] == 1:\n",
    "                for j in range(studentsCount):\n",
    "                    table[j][curProblem] = seria[j][i]\n",
    "                curProblem += 1\n",
    "    return table"
   ]
  },
  {
   "cell_type": "code",
   "execution_count": 45,
   "metadata": {},
   "outputs": [],
   "source": [
    "threshold = 10\n",
    "\n",
    "def CalculateRatings():\n",
    "    table = ParseTable()\n",
    "    mu, students, problems = LogisticRegression(table, 10000)\n",
    "    students = (students + threshold - students[0]) * 100\n",
    "#     print(students)\n",
    "    \n",
    "    names = ['Владик'] + open('members.txt').read().split('\\n')\n",
    "    \n",
    "    res = []\n",
    "    for i, name in enumerate(names):\n",
    "        res.append([students[i], f'{name}\\t{int(students[i])}'])\n",
    "    fout = open('rating1.txt', 'w')\n",
    "    for r, row in reversed(sorted(res)):\n",
    "        print(row, file=fout)"
   ]
  },
  {
   "cell_type": "code",
   "execution_count": 46,
   "metadata": {},
   "outputs": [],
   "source": [
    "CalculateRatings()"
   ]
  },
  {
   "cell_type": "code",
   "execution_count": null,
   "metadata": {},
   "outputs": [],
   "source": []
  },
  {
   "cell_type": "code",
   "execution_count": null,
   "metadata": {},
   "outputs": [],
   "source": []
  }
 ],
 "metadata": {
  "kernelspec": {
   "display_name": "Python 3",
   "language": "python",
   "name": "python3"
  },
  "language_info": {
   "codemirror_mode": {
    "name": "ipython",
    "version": 3
   },
   "file_extension": ".py",
   "mimetype": "text/x-python",
   "name": "python",
   "nbconvert_exporter": "python",
   "pygments_lexer": "ipython3",
   "version": "3.9.1"
  }
 },
 "nbformat": 4,
 "nbformat_minor": 2
}
